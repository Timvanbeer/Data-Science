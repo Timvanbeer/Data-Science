{
 "cells": [
  {
   "cell_type": "markdown",
   "id": "17d6ec1f-7e1f-4953-a0e9-4f3e73222d90",
   "metadata": {},
   "source": [
    "# Data Science Tools and Ecosystem"
   ]
  },
  {
   "cell_type": "markdown",
   "id": "c63fd62d-0b0e-4a77-a569-8bb747627bba",
   "metadata": {},
   "source": [
    "In this notebook, Data Science Tools and Ecosystem are summarized."
   ]
  },
  {
   "cell_type": "markdown",
   "id": "1ee751ab-aab0-4b75-8cb4-3eede7d38bf8",
   "metadata": {},
   "source": [
    "**Objectives:**\n",
    "- Most common languages in Data Science\n",
    "- Common used libraries ind Data Science\n",
    "- How to work with markdown and code"
   ]
  },
  {
   "cell_type": "markdown",
   "id": "18533caa-affe-41e2-bad6-1f7209823d8e",
   "metadata": {},
   "source": [
    "Some of the most common languages that Data Scientists use are:\n",
    "1. Python\n",
    "2. R\n",
    "3. Julia\n",
    "4. Scala"
   ]
  },
  {
   "cell_type": "markdown",
   "id": "06f3ecfb-08f6-4aee-ac9d-f5f2ee83495f",
   "metadata": {},
   "source": [
    "Some of the commonly used libraries used by Data Scientists include:\n",
    "1. Ggplot2\n",
    "2. Pandas\n",
    "3. PyTorch"
   ]
  },
  {
   "cell_type": "markdown",
   "id": "00ba68ca-8573-4d79-ab50-5edf8c15ebfa",
   "metadata": {},
   "source": [
    "|Data Science Tools|\n",
    "---------\n",
    "|Apache Spark|\n",
    "|Tensor Flow|\n",
    "|Jupyter Notebook|"
   ]
  },
  {
   "cell_type": "markdown",
   "id": "c63d0322-b5a6-44e7-b461-850d62d781a1",
   "metadata": {},
   "source": [
    "### Below are a few examples of evaluating arithmetic expressions in Python. "
   ]
  },
  {
   "cell_type": "code",
   "execution_count": 3,
   "id": "0026fffd-f9ba-48f6-8e2b-f33e8cd5e08d",
   "metadata": {},
   "outputs": [
    {
     "data": {
      "text/plain": [
       "17"
      ]
     },
     "execution_count": 3,
     "metadata": {},
     "output_type": "execute_result"
    }
   ],
   "source": [
    "#This is a simple arithmetic expression to multiply then add integers.\n",
    "(3*4)+5"
   ]
  },
  {
   "cell_type": "code",
   "execution_count": 4,
   "id": "09010e65-537c-404e-b6dc-57ef31c858c5",
   "metadata": {},
   "outputs": [
    {
     "data": {
      "text/plain": [
       "3.3333333333333335"
      ]
     },
     "execution_count": 4,
     "metadata": {},
     "output_type": "execute_result"
    }
   ],
   "source": [
    "# This will convert 200 minutes to hours by deviding by 60.\n",
    "200/60\n"
   ]
  },
  {
   "cell_type": "markdown",
   "id": "ff36f271-9a56-4ed6-b23e-fa43a59e3163",
   "metadata": {},
   "source": [
    "## Author\n",
    "Tim van Beers"
   ]
  },
  {
   "cell_type": "code",
   "execution_count": null,
   "id": "5fbaa253-36f1-40d4-a028-c95f174bdb68",
   "metadata": {},
   "outputs": [],
   "source": []
  }
 ],
 "metadata": {
  "kernelspec": {
   "display_name": "Python 3 (ipykernel)",
   "language": "python",
   "name": "python3"
  },
  "language_info": {
   "codemirror_mode": {
    "name": "ipython",
    "version": 3
   },
   "file_extension": ".py",
   "mimetype": "text/x-python",
   "name": "python",
   "nbconvert_exporter": "python",
   "pygments_lexer": "ipython3",
   "version": "3.11.7"
  }
 },
 "nbformat": 4,
 "nbformat_minor": 5
}
